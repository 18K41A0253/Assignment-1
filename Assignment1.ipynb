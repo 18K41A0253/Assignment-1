{
  "nbformat": 4,
  "nbformat_minor": 0,
  "metadata": {
    "colab": {
      "name": "Assignment1.ipynb",
      "provenance": [],
      "collapsed_sections": [],
      "authorship_tag": "ABX9TyNLmHLANj0rmh0lmzjv5MX7",
      "include_colab_link": true
    },
    "kernelspec": {
      "name": "python3",
      "display_name": "Python 3"
    }
  },
  "cells": [
    {
      "cell_type": "markdown",
      "metadata": {
        "id": "view-in-github",
        "colab_type": "text"
      },
      "source": [
        "<a href=\"https://colab.research.google.com/github/18K41A0253/Assignment-1/blob/master/Assignment1.ipynb\" target=\"_parent\"><img src=\"https://colab.research.google.com/assets/colab-badge.svg\" alt=\"Open In Colab\"/></a>"
      ]
    },
    {
      "cell_type": "markdown",
      "metadata": {
        "id": "emYgmoEyH9EF",
        "colab_type": "text"
      },
      "source": [
        "1.\tDevelop a code for below scenario\n",
        "year % 12 = {0: \"monkey\", 1: \"rooster\", 2: \"dog\", 3: \"pig\", 4: \"rat\", 5: \"ox\", 6: \"tiger\",7: \"rabbit\", 8: \"dragon\", 9: \"snake\", 10: \"horse\", 11: \"sheep\"}"
      ]
    },
    {
      "cell_type": "code",
      "metadata": {
        "id": "XCNUr2-lK7u8",
        "colab_type": "code",
        "colab": {
          "base_uri": "https://localhost:8080/",
          "height": 54
        },
        "outputId": "9e571a36-6735-4fce-92a4-f6d1ef4b65e7"
      },
      "source": [
        "year=int(input('enter the year: '))\n",
        "d={0:'Monkey',1:'Rooster',2:'Dog',3:'Pig',4:'Rat',5:'Ox',6:'Tiger',7:'Rabbit',8:'Dragon',9:'Snake',10:'Horse',11:'Sheep'}\n",
        "if year%12==0:\n",
        "  print(d[0])\n",
        "elif year%12==1:    \n",
        "  print(d[1])\n",
        "elif year%12==2:    \n",
        "  print(d[2])\n",
        "elif year%12==3:\n",
        "   print(d[3])\n",
        "elif year%12==4:\n",
        "    print(d[4])\n",
        "elif year%12==5:\n",
        "    print(d[5])\n",
        "elif year%12==6:\n",
        "    print(d[6])\n",
        "elif year%12==7:\n",
        "    print(d[7])\n",
        "elif year%12==8:\n",
        "    print(d[8])\n",
        "elif year%12==9:\n",
        "    print(d[9])\n",
        "elif year%12==10:\n",
        "    print(d[10])\n",
        "elif  year%12==11:\n",
        "    print(d[11])"
      ],
      "execution_count": null,
      "outputs": [
        {
          "output_type": "stream",
          "text": [
            "enter the year: 2020\n",
            "Rat\n"
          ],
          "name": "stdout"
        }
      ]
    },
    {
      "cell_type": "markdown",
      "metadata": {
        "id": "drLjo06_Ilxc",
        "colab_type": "text"
      },
      "source": [
        "2.\tA Quick Fox Transport Co. wants to develop an application for calculating amount based on distance and weight of goods. The charges (Amount) to be calculated as per rates given below. "
      ]
    },
    {
      "cell_type": "code",
      "metadata": {
        "id": "GXWFe-j-LJ6I",
        "colab_type": "code",
        "colab": {
          "base_uri": "https://localhost:8080/",
          "height": 72
        },
        "outputId": "e6f70bbe-f5ee-46fe-a146-7888a9dd8b8c"
      },
      "source": [
        "distance=int(input(\"enter distance: \"))\n",
        "weight=int(input(\"enter weight\"))\n",
        "if distance>=500:\n",
        "    if weight>=100:\n",
        "        Cost=5*distance\n",
        "    elif weight>=10 and weight<100:\n",
        "            Cost=6*distance \n",
        "    else:\n",
        "          Cost=7*distance \n",
        "else:\n",
        " \n",
        "    if weight>=100:\n",
        "        Cost=8*distance \n",
        "    else:\n",
        "        Cost=5*distance \n",
        " \n",
        "print(Cost)"
      ],
      "execution_count": null,
      "outputs": [
        {
          "output_type": "stream",
          "text": [
            "enter distance: 520\n",
            "enter weight50\n",
            "3120\n"
          ],
          "name": "stdout"
        }
      ]
    },
    {
      "cell_type": "markdown",
      "metadata": {
        "id": "gTUoPnWdI62F",
        "colab_type": "text"
      },
      "source": [
        "3.\tThe Entertainment Paradise\n",
        "\n",
        " A theater in Delhi wants to develop a computerized Booking System. The theater offers different types of seats. The Ticket rates are- Stalls- Rs. 625/-, Circle- Rs.750/-, Upper Class- Rs.850/- and Box- Rs.1000/-. A discount is given 10% of total amount if tickets are purchased on Cash. In case of credit card holders 5% discount is given. \n"
      ]
    },
    {
      "cell_type": "code",
      "metadata": {
        "id": "E116vs-YWyP4",
        "colab_type": "code",
        "colab": {
          "base_uri": "https://localhost:8080/",
          "height": 72
        },
        "outputId": "3fec57ad-695e-432c-92dd-77efe17cddd0"
      },
      "source": [
        "type_of_seat = str(input(\"Type of seat: \"))\n",
        "payment_mode = str(input(\"Payment mode: \"))\n",
        "d = {'Stalls': 625, 'Circle': 750, 'Upper class': 850, 'Box': 1000}\n",
        "if type_of_seat == \"Stalls\":\n",
        "    if payment_mode == \"Cash\":\n",
        "        cost_of_ticket = d['Stalls'] - (0.1 * d['Stalls'])\n",
        "        print(\"Cost of ticket: {}\".format(cost_of_ticket))\n",
        "    elif payment_mode == \"credit card\":\n",
        "        cost_of_ticket = d['Stalls'] - (0.05 * d['Stalls'])\n",
        "        print(\"Cost of ticket: {}\".format(cost_of_ticket))\n",
        "elif type_of_seat == \"Circle\":\n",
        "    if payment_mode == \"Cash\":\n",
        "        cost_of_ticket = d['Circle'] - (0.1 * d['Circle'])\n",
        "        print(\"Cost of ticket: {}\".format(cost_of_ticket))\n",
        "    elif payment_mode == \"credit card\":\n",
        "        cost_of_ticket = d['Circle'] - (0.05 * d['Circle'])\n",
        "        print(\"Cost of ticket: {}\".format(cost_of_ticket))\n",
        "elif type_of_seat == \"Upper class\":\n",
        "    if payment_mode == \"Cash\":\n",
        "        cost_of_ticket = d['Upper class'] - (0.1 * d['Upper class'])\n",
        "        print(\"Cost of ticket: {}\".format(cost_of_ticket))\n",
        "    elif payment_mode == \"credit card\":\n",
        "        cost_of_ticket = d['Upper class'] - (0.05 * d['Upper class'])\n",
        "        print(\"Cost of ticket: {}\".format(cost_of_ticket))\n",
        "elif type_of_seat == \"Box\":\n",
        "    if payment_mode == \"Cash\":\n",
        "        cost_of_ticket = d['Box'] - (0.1 * d['Box'])\n",
        "        print(\"Cost of ticket: {}\".format(cost_of_ticket))\n",
        "    elif payment_mode == \"credit card\":\n",
        "        cost_of_ticket = d['Box'] - (0.05 * d['Box'])\n",
        "        print(\"Cost of ticket: {}\".format(cost_of_ticket))"
      ],
      "execution_count": null,
      "outputs": [
        {
          "output_type": "stream",
          "text": [
            "Type of seat: Circle\n",
            "Payment mode: Cash\n",
            "Cost of ticket: 675.0\n"
          ],
          "name": "stdout"
        }
      ]
    },
    {
      "cell_type": "markdown",
      "metadata": {
        "id": "kG_7unJ0JGhJ",
        "colab_type": "text"
      },
      "source": [
        "4.\tDevelop a program that calculates the energy needed to heat water from an initial temperature to a final temperature. Your program should prompt the user to enter the amount of water in kilograms and the initial and final temperatures of the water. The formula to compute the energy is \n",
        "Q = M * (finalTemperature – initialTemperature) * 4184.\n",
        "where M is the weight of water in kilograms, temperatures are in degrees Celsius,  and energy Q is measured in joules. (L6)\n"
      ]
    },
    {
      "cell_type": "code",
      "metadata": {
        "id": "BOmkuwKa5vWb",
        "colab_type": "code",
        "colab": {
          "base_uri": "https://localhost:8080/",
          "height": 90
        },
        "outputId": "21511bb5-9905-4082-d425-1b5c2eaf1164"
      },
      "source": [
        "M = int(input(\"Amount of water: \"))\n",
        "it = float(input(\"Initial temperature: \"))\n",
        "ft = float(input(\"Final temperature: \"))\n",
        "Q = M * (ft - it) * 4184\n",
        "print(Q)"
      ],
      "execution_count": null,
      "outputs": [
        {
          "output_type": "stream",
          "text": [
            "Amount of water: 50\n",
            "Initial temperature: 3.55\n",
            "Final temperature: 150.6\n",
            "30762859.999999996\n"
          ],
          "name": "stdout"
        }
      ]
    },
    {
      "cell_type": "markdown",
      "metadata": {
        "id": "WjjunJMaJSCa",
        "colab_type": "text"
      },
      "source": [
        "5.\tDevelop a program that prompts user to enter month and  print \n",
        "a.\t“Winter ” -   December ,January and February\n",
        "b.\t“Spring”  -   March ,April and May\n",
        "c.\t“Summer”  --- June ,July, August\n",
        "d.\t“Autumn ”  -- September ,October, November\n"
      ]
    },
    {
      "cell_type": "code",
      "metadata": {
        "id": "qG7yXfOd6B2T",
        "colab_type": "code",
        "colab": {
          "base_uri": "https://localhost:8080/",
          "height": 54
        },
        "outputId": "83ec5b66-39ff-4c34-f525-25efb920a47f"
      },
      "source": [
        "m = str(input(\"enter month: \"))\n",
        "winter = [\"December\", \"January\", \"February\"]\n",
        "spring = [\"March\", \"April\", \"May\"]\n",
        "summer = [\"June\", \"July\", \"August\"]\n",
        "autumn = [\"September\", \"October\", \"November\"]\n",
        "if m in winter:\n",
        "    print(\"Winter\")\n",
        "elif m in spring:\n",
        "    print(\"Spring\")\n",
        "elif m in summer:\n",
        "    print(\"Summer\")\n",
        "elif m in autumn:\n",
        "    print(\"Autumn\")"
      ],
      "execution_count": null,
      "outputs": [
        {
          "output_type": "stream",
          "text": [
            "enter month: December\n",
            "Winter\n"
          ],
          "name": "stdout"
        }
      ]
    },
    {
      "cell_type": "markdown",
      "metadata": {
        "id": "Y2TfYCBrL3Oz",
        "colab_type": "text"
      },
      "source": [
        "6.\tBody Mass Index"
      ]
    },
    {
      "cell_type": "code",
      "metadata": {
        "id": "3b8ploo66gQt",
        "colab_type": "code",
        "colab": {
          "base_uri": "https://localhost:8080/",
          "height": 126
        },
        "outputId": "988ff0ec-59da-4f79-c68d-0e30ec750b59"
      },
      "source": [
        "w = float(input(\"enter weight: \"))\n",
        "h = float(input(\"enter height: \"))\n",
        "w_in_kg = w * 0.45359237\n",
        "h_in_meters = h * 0.0254\n",
        "print(\"weight: {} kg\".format(w_in_kg))\n",
        "print(\"height: {} m\".format(h_in_meters))\n",
        "BMI = w_in_kg / (h_in_meters ** 2)\n",
        "print(\"Body Mass Index(BMI): {}\".format(BMI))\n",
        "if BMI < 18.5:\n",
        "    print(\"Underweight\")\n",
        "elif 18.5 <= BMI < 25.0:\n",
        "    print(\"Normal\")\n",
        "elif 25.0 <= BMI < 30.0:\n",
        "    print(\"Overweight\")\n",
        "elif BMI >= 30.0:\n",
        "    print(\"Obese\")"
      ],
      "execution_count": null,
      "outputs": [
        {
          "output_type": "stream",
          "text": [
            "enter weight: 135.25\n",
            "enter height: 85.256\n",
            "weight: 61.348368042500006 kg\n",
            "height: 2.1655024 m\n",
            "Body Mass Index(BMI): 13.082347339139345\n",
            "Underweight\n"
          ],
          "name": "stdout"
        }
      ]
    },
    {
      "cell_type": "markdown",
      "metadata": {
        "id": "Ta7oUXE_L7dB",
        "colab_type": "text"
      },
      "source": [
        "7.\tWrite a program that reads an integer between 100 and 1000 and adds all the digits in the integer "
      ]
    },
    {
      "cell_type": "code",
      "metadata": {
        "id": "UUTgcwKy67AB",
        "colab_type": "code",
        "colab": {
          "base_uri": "https://localhost:8080/",
          "height": 54
        },
        "outputId": "955fa94f-c4f9-4c34-d729-7e161f940904"
      },
      "source": [
        "n = int(input(\"enter a number: \"))\n",
        "result = 0\n",
        "number = n\n",
        "while n > 0:\n",
        "    i = n % 10\n",
        "    result = result + i\n",
        "    n = int(n / 10)\n",
        "print(\"sum of all digits of\", number, \"is:\", result)"
      ],
      "execution_count": null,
      "outputs": [
        {
          "output_type": "stream",
          "text": [
            "enter a number: 745\n",
            "sum of all digits of 745 is: 16\n"
          ],
          "name": "stdout"
        }
      ]
    },
    {
      "cell_type": "markdown",
      "metadata": {
        "id": "vQ1wG-39MALf",
        "colab_type": "text"
      },
      "source": [
        "8.\tPrint all palindrome numbers between 1 to 1000."
      ]
    },
    {
      "cell_type": "code",
      "metadata": {
        "id": "wJXFPznA7Lkg",
        "colab_type": "code",
        "colab": {
          "base_uri": "https://localhost:8080/",
          "height": 1000
        },
        "outputId": "b9989003-9f68-4c76-9a01-931a64239e4a"
      },
      "source": [
        "m = int(input(\" enter the maximum value: \"))\n",
        "print(\"palindrome number between 1 and {}\".format(m))\n",
        "for num in range(1, m + 1):\n",
        "    temp = num\n",
        "    reverse = 0\n",
        "    while temp > 0:\n",
        "        reminder = temp % 10\n",
        "        reverse = (reverse * 10) + reminder\n",
        "        temp = temp // 10\n",
        "    if num == reverse:\n",
        "        print(num)"
      ],
      "execution_count": null,
      "outputs": [
        {
          "output_type": "stream",
          "text": [
            " enter the maximum value: 1000\n",
            "palindrome number between 1 and 1000\n",
            "1\n",
            "2\n",
            "3\n",
            "4\n",
            "5\n",
            "6\n",
            "7\n",
            "8\n",
            "9\n",
            "11\n",
            "22\n",
            "33\n",
            "44\n",
            "55\n",
            "66\n",
            "77\n",
            "88\n",
            "99\n",
            "101\n",
            "111\n",
            "121\n",
            "131\n",
            "141\n",
            "151\n",
            "161\n",
            "171\n",
            "181\n",
            "191\n",
            "202\n",
            "212\n",
            "222\n",
            "232\n",
            "242\n",
            "252\n",
            "262\n",
            "272\n",
            "282\n",
            "292\n",
            "303\n",
            "313\n",
            "323\n",
            "333\n",
            "343\n",
            "353\n",
            "363\n",
            "373\n",
            "383\n",
            "393\n",
            "404\n",
            "414\n",
            "424\n",
            "434\n",
            "444\n",
            "454\n",
            "464\n",
            "474\n",
            "484\n",
            "494\n",
            "505\n",
            "515\n",
            "525\n",
            "535\n",
            "545\n",
            "555\n",
            "565\n",
            "575\n",
            "585\n",
            "595\n",
            "606\n",
            "616\n",
            "626\n",
            "636\n",
            "646\n",
            "656\n",
            "666\n",
            "676\n",
            "686\n",
            "696\n",
            "707\n",
            "717\n",
            "727\n",
            "737\n",
            "747\n",
            "757\n",
            "767\n",
            "777\n",
            "787\n",
            "797\n",
            "808\n",
            "818\n",
            "828\n",
            "838\n",
            "848\n",
            "858\n",
            "868\n",
            "878\n",
            "888\n",
            "898\n",
            "909\n",
            "919\n",
            "929\n",
            "939\n",
            "949\n",
            "959\n",
            "969\n",
            "979\n",
            "989\n",
            "999\n"
          ],
          "name": "stdout"
        }
      ]
    },
    {
      "cell_type": "markdown",
      "metadata": {
        "colab_type": "text",
        "id": "fqi3jHLK-DRn"
      },
      "source": [
        "8.\tPrint all armstrong numbers between 1 to 1000."
      ]
    },
    {
      "cell_type": "code",
      "metadata": {
        "id": "JZrAgJS87Z-i",
        "colab_type": "code",
        "colab": {
          "base_uri": "https://localhost:8080/",
          "height": 145
        },
        "outputId": "fb0bf94a-48dc-412c-8fec-0aabdc1f12d8"
      },
      "source": [
        "m = int(input(\" enter the maximum value: \"))\n",
        "print(\"palindrome number between 1 and {}\".format(m))\n",
        "for n in range(1, m + 1):\n",
        "    s = 0\n",
        "    temp = n\n",
        "    while temp > 0:\n",
        "        digit = temp % 10\n",
        "        s = s + digit ** 3\n",
        "        temp = temp // 10\n",
        "    if n == s:\n",
        "        print(n)"
      ],
      "execution_count": null,
      "outputs": [
        {
          "output_type": "stream",
          "text": [
            " enter the maximum value: 1000\n",
            "palindrome number between 1 and 1000\n",
            "1\n",
            "153\n",
            "370\n",
            "371\n",
            "407\n"
          ],
          "name": "stdout"
        }
      ]
    },
    {
      "cell_type": "markdown",
      "metadata": {
        "id": "DGjJt0WiMIqG",
        "colab_type": "text"
      },
      "source": [
        "10.\tWrite a  program which iterates the integers from 1 to 100. For multiples of three print \"Fizz\" instead of the number and print \"Buzz\" for the multiples of five. When number is divided by both three and five, print \"fizz buzz\"."
      ]
    },
    {
      "cell_type": "code",
      "metadata": {
        "id": "4hCL2-pM7pVR",
        "colab_type": "code",
        "colab": {
          "base_uri": "https://localhost:8080/",
          "height": 890
        },
        "outputId": "b9391768-e9fa-483b-88dd-96abf0c4cb7c"
      },
      "source": [
        "m = int(input(\"enter maximum number: \"))\n",
        "for n in range(1, m + 1):\n",
        "    if n % 3 == 0 and n % 5 == 0:\n",
        "        print(\"{}: Fizz Buzz\".format(n))\n",
        "    elif n % 5 == 0:\n",
        "        print(\"{}: Buzz\".format(n))\n",
        "    elif n % 3 == 0:\n",
        "        print(\"{}: Fizz \".format(n))"
      ],
      "execution_count": null,
      "outputs": [
        {
          "output_type": "stream",
          "text": [
            "enter maximum number: 100\n",
            "3: Fizz \n",
            "5: Buzz\n",
            "6: Fizz \n",
            "9: Fizz \n",
            "10: Buzz\n",
            "12: Fizz \n",
            "15: Fizz Buzz\n",
            "18: Fizz \n",
            "20: Buzz\n",
            "21: Fizz \n",
            "24: Fizz \n",
            "25: Buzz\n",
            "27: Fizz \n",
            "30: Fizz Buzz\n",
            "33: Fizz \n",
            "35: Buzz\n",
            "36: Fizz \n",
            "39: Fizz \n",
            "40: Buzz\n",
            "42: Fizz \n",
            "45: Fizz Buzz\n",
            "48: Fizz \n",
            "50: Buzz\n",
            "51: Fizz \n",
            "54: Fizz \n",
            "55: Buzz\n",
            "57: Fizz \n",
            "60: Fizz Buzz\n",
            "63: Fizz \n",
            "65: Buzz\n",
            "66: Fizz \n",
            "69: Fizz \n",
            "70: Buzz\n",
            "72: Fizz \n",
            "75: Fizz Buzz\n",
            "78: Fizz \n",
            "80: Buzz\n",
            "81: Fizz \n",
            "84: Fizz \n",
            "85: Buzz\n",
            "87: Fizz \n",
            "90: Fizz Buzz\n",
            "93: Fizz \n",
            "95: Buzz\n",
            "96: Fizz \n",
            "99: Fizz \n",
            "100: Buzz\n"
          ],
          "name": "stdout"
        }
      ]
    },
    {
      "cell_type": "markdown",
      "metadata": {
        "id": "UeF7DDhMHPVL",
        "colab_type": "text"
      },
      "source": [
        "11.\tSpider Problem: A spider present at the bottom of the well of height H, needs to get out of it, using the slippery wall of the well. It decides to climb up the well; it goes up U meters and slips down D meters in one single step. So, in each step it covers (U-D) meters, and if the spider gets out of the well by covering U meters in the last step it doesn’t a slip back. For example, if the spider climbs up 5 meters and slips down by 3 meters in a single step, it covers (U - D) m in each step and 96 m in 48 steps, but in the 49th step it climbs up 5 m and reaches out of the well and it will not slip down and the step is counted as one step."
      ]
    },
    {
      "cell_type": "code",
      "metadata": {
        "id": "0XXnzUWy778N",
        "colab_type": "code",
        "colab": {
          "base_uri": "https://localhost:8080/",
          "height": 90
        },
        "outputId": "2c8b3e89-299b-4ee5-d4d5-5d561870d01a"
      },
      "source": [
        "h = int(input(\"enter height of well: \"))\n",
        "u = int(input(\"enter height of spider climbed: \"))\n",
        "d = int(input(\"enter how deep the spider slipped: \"))\n",
        "s = 0\n",
        "while h >= u:\n",
        "    s += 1\n",
        "    h = h - (u - d)\n",
        "s += 1\n",
        "print(\"Number of steps the spider required to get out of well are: {}\".format(s))"
      ],
      "execution_count": null,
      "outputs": [
        {
          "output_type": "stream",
          "text": [
            "enter height of well: 500\n",
            "enter height of spider climbed: 20\n",
            "enter how deep the spider slipped: 15\n",
            "Number of steps the spider required to get out of well are: 98\n"
          ],
          "name": "stdout"
        }
      ]
    }
  ]
}